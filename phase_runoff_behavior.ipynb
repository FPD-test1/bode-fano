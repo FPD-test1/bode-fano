{
 "cells": [
  {
   "cell_type": "markdown",
   "id": "a304e07a",
   "metadata": {},
   "source": [
    "Let's use the parallel circuit again to look to see what happens when there is a bias current that is larger than the critical current. We will use a variation of the parallel circuit template anf change it such that a dc current is in parallel with the Josephson junction, instead of the original flux-tuned version."
   ]
  },
  {
   "cell_type": "code",
   "execution_count": null,
   "id": "2ae49308",
   "metadata": {},
   "outputs": [],
   "source": [
    "from circuit_reader import *\n",
    "cd = CircuitData()\n",
    "cd.simulation_cycle(\"parallel\", variation=\"current_bias\")"
   ]
  },
  {
   "cell_type": "markdown",
   "id": "6fa83ff8",
   "metadata": {},
   "source": [
    "Which looks like:"
   ]
  },
  {
   "cell_type": "code",
   "execution_count": null,
   "id": "8a6dcbad",
   "metadata": {},
   "outputs": [],
   "source": [
    "import matplotlib.image as mpimg  # this is just to show the circuit diagram. does not affect the rest of the code\n",
    "img = mpimg.imread('examples/parallel_current_bias.jpg')\n",
    "imgplot = plt.imshow(img)\n",
    "plt.show()"
   ]
  },
  {
   "cell_type": "markdown",
   "id": "2081dcc8",
   "metadata": {},
   "source": [
    "I also added a print_circuit_text() function which prints the template's current format with variations included. This can be then exported to something like pywrspice if needed."
   ]
  },
  {
   "cell_type": "code",
   "execution_count": null,
   "id": "04d56c90",
   "metadata": {},
   "outputs": [],
   "source": [
    "cd.print_circuit_text()"
   ]
  },
  {
   "cell_type": "markdown",
   "id": "0f9d46b3",
   "metadata": {},
   "source": [
    "Here's what things normally look like, when there is zero bias current:"
   ]
  },
  {
   "cell_type": "code",
   "execution_count": null,
   "id": "8acbcb97",
   "metadata": {},
   "outputs": [],
   "source": [
    "import circuit_plotter as cplt\n",
    "cplt.plot_cd_measurables(cd)"
   ]
  },
  {
   "cell_type": "markdown",
   "id": "600e7090",
   "metadata": {},
   "source": [
    "Let's bias the current to something moderate, like 3e-9 A. Also, we will just look at a shorter time scale."
   ]
  },
  {
   "cell_type": "code",
   "execution_count": null,
   "id": "0b077566",
   "metadata": {},
   "outputs": [],
   "source": [
    "cd.change_param(\"tran_start\", 0)\n",
    "cd.change_param(\"tran_stop\", 1e-7)\n",
    "cd.change_param(\"tran_step\", 1e-12)\n",
    "cd.change_param(\"ibias_mag\", 3e-9)\n",
    "cd.simulation_cycle(\"parallel\", variation=\"current_bias\")\n",
    "cplt.plot_cd_measurables(cd)"
   ]
  },
  {
   "cell_type": "markdown",
   "id": "12de3dd9",
   "metadata": {},
   "source": [
    "Now let's go over the critical current."
   ]
  },
  {
   "cell_type": "code",
   "execution_count": null,
   "id": "f57c0b08",
   "metadata": {},
   "outputs": [],
   "source": [
    "cd.change_param(\"ibias_mag\", 2e-6)\n",
    "cd.simulation_cycle(\"parallel\", variation=\"current_bias\")\n",
    "cplt.plot_cd_measurables(cd)"
   ]
  },
  {
   "cell_type": "markdown",
   "id": "08b7b071",
   "metadata": {},
   "source": [
    "Now we see some runoff behavior in the phase. The phase is \"tumbling down\" the washboard potential and will never stop since the washboard has tilted too much."
   ]
  },
  {
   "cell_type": "markdown",
   "id": "2415f203",
   "metadata": {},
   "source": [
    "But where does the runoff begin? Well, it seems like that point is actually slightly smaller than the critical current (1.1e-06 A). Consider the comparison between two bias currents below:"
   ]
  },
  {
   "cell_type": "code",
   "execution_count": null,
   "id": "d514c2c7",
   "metadata": {},
   "outputs": [],
   "source": [
    "cd.change_param(\"ibias_mag\", 0.812e-6)\n",
    "cd.simulation_cycle(\"parallel\", variation=\"current_bias\")\n",
    "cplt.plot_cd_measurables(cd)"
   ]
  },
  {
   "cell_type": "code",
   "execution_count": null,
   "id": "2002be84",
   "metadata": {},
   "outputs": [],
   "source": [
    "cd.change_param(\"ibias_mag\", 0.813e-6)\n",
    "cd.simulation_cycle(\"parallel\", variation=\"current_bias\")\n",
    "cplt.plot_cd_measurables(cd)"
   ]
  },
  {
   "cell_type": "markdown",
   "id": "f2e9c6c6",
   "metadata": {},
   "source": [
    "This transition is slightly below the critical current, rather than being at exactly at it. I'm not exactly sure right now why this is the case. Still, we can see that the behavior is obviously different when the JJ is out of its superconducting phase."
   ]
  }
 ],
 "metadata": {
  "kernelspec": {
   "display_name": "Python 3 (ipykernel)",
   "language": "python",
   "name": "python3"
  },
  "language_info": {
   "codemirror_mode": {
    "name": "ipython",
    "version": 3
   },
   "file_extension": ".py",
   "mimetype": "text/x-python",
   "name": "python",
   "nbconvert_exporter": "python",
   "pygments_lexer": "ipython3",
   "version": "3.10.12"
  }
 },
 "nbformat": 4,
 "nbformat_minor": 5
}
